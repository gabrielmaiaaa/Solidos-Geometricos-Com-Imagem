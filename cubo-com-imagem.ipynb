{
 "cells": [
  {
   "cell_type": "markdown",
   "metadata": {},
   "source": [
    "Aqui imporamos as bibliotes necessárias para o nosso projeto"
   ]
  },
  {
   "cell_type": "code",
   "execution_count": 1,
   "metadata": {},
   "outputs": [
    {
     "name": "stdout",
     "output_type": "stream",
     "text": [
      "pygame 2.5.2 (SDL 2.28.3, Python 3.12.3)\n",
      "Hello from the pygame community. https://www.pygame.org/contribute.html\n"
     ]
    }
   ],
   "source": [
    "# Bibliotecas importadas\n",
    "import pygame\n",
    "from pygame.locals import *\n",
    "from OpenGL.GL import *\n",
    "from OpenGL.GLU import *\n",
    "from skimage import io"
   ]
  },
  {
   "cell_type": "markdown",
   "metadata": {},
   "source": [
    "Aqui temos as variáveis com as coordenadas dos vertices do nosso modelo 3D (CUBO) e das nossas texturas"
   ]
  },
  {
   "cell_type": "code",
   "execution_count": 2,
   "metadata": {},
   "outputs": [],
   "source": [
    "# Variáveis dos vértices do cubo\n",
    "vertices = [\n",
    "    (-1.0, -1.0,  1.0), ( 1.0, -1.0,  1.0), ( 1.0,  1.0,  1.0), (-1.0,  1.0,  1.0),\n",
    "    ( 1.0, -1.0, -1.0), (-1.0, -1.0, -1.0), (-1.0,  1.0, -1.0), ( 1.0,  1.0, -1.0),\n",
    "    (-1.0,  1.0,  1.0), ( 1.0,  1.0,  1.0), ( 1.0,  1.0, -1.0), (-1.0,  1.0, -1.0),\n",
    "    (-1.0, -1.0, -1.0), ( 1.0, -1.0, -1.0), ( 1.0, -1.0,  1.0), (-1.0, -1.0,  1.0),\n",
    "    ( 1.0, -1.0,  1.0), ( 1.0, -1.0, -1.0), ( 1.0,  1.0, -1.0), ( 1.0,  1.0,  1.0),\n",
    "    (-1.0, -1.0, -1.0), (-1.0, -1.0,  1.0), (-1.0,  1.0,  1.0), (-1.0,  1.0, -1.0),\n",
    "]\n",
    "\n",
    "# Variáveis da coordenada da textura\n",
    "coordenadas_textura = [\n",
    "    (0.0, 0.0), (1.0, 0.0), (1.0, 1.0), (0.0, 1.0),\n",
    "    (0.0, 0.0), (1.0, 0.0), (1.0, 1.0), (0.0, 1.0),\n",
    "    (0.0, 0.0), (1.0, 0.0), (1.0, 1.0), (0.0, 1.0),\n",
    "    (0.0, 0.0), (1.0, 0.0), (1.0, 1.0), (0.0, 1.0),\n",
    "    (0.0, 0.0), (1.0, 0.0), (1.0, 1.0), (0.0, 1.0),\n",
    "    (0.0, 0.0), (1.0, 0.0), (1.0, 1.0), (0.0, 1.0),\n",
    "]"
   ]
  },
  {
   "cell_type": "markdown",
   "metadata": {},
   "source": [
    "Função responável por tratar e carregar a textura da imagem que escolhemos"
   ]
  },
  {
   "cell_type": "code",
   "execution_count": 3,
   "metadata": {},
   "outputs": [],
   "source": [
    "# Função que gera uma textura a partir de uma imagem\n",
    "def Textura():\n",
    "    # Carregamos a imagem na nossa váriavel\n",
    "    imagem = pygame.image.load('BD-Imagem/cachorro.jpg')\n",
    "    # Transformamos a nossa imagem numa string para poder tratar ela\n",
    "    textura = pygame.image.tostring(imagem, \"RGBA\", 1)\n",
    "    # Variavéis das dimensão da nossa imagem\n",
    "    width = imagem.get_width()\n",
    "    height = imagem.get_height()\n",
    "    # habilita a textura 2D no OpenGL\n",
    "    glEnable(GL_TEXTURE_2D)\n",
    "    # Gera a textura e liga a textura para q possamos trabalhar nela\n",
    "    texid = glGenTextures(1)\n",
    "    glBindTexture(GL_TEXTURE_2D, texid)\n",
    "    # comando que define a imagem da textura no OpenGL.\n",
    "    # que recebe algumas variáveis como ipo de textura, nível de detalhe, formato interno,\n",
    "    # largura, altura, borda, formato da imagem, tipo de dados e os dados da imagem em si.\n",
    "    glTexImage2D(GL_TEXTURE_2D, 0, GL_RGB, width, height, 0, GL_RGBA, GL_UNSIGNED_BYTE, textura)\n",
    "    # São comandos que configuram os parâmetros de empacotamento e filtragem da textura\n",
    "    glTexParameterf(GL_TEXTURE_2D, GL_TEXTURE_WRAP_S, GL_REPEAT)\n",
    "    glTexParameterf(GL_TEXTURE_2D, GL_TEXTURE_WRAP_T, GL_REPEAT)\n",
    "    # Aqui faz a filtragem usar o pixel mais próximo \n",
    "    glTexParameterf(GL_TEXTURE_2D, GL_TEXTURE_MAG_FILTER, GL_NEAREST)\n",
    "    glTexParameterf(GL_TEXTURE_2D, GL_TEXTURE_MIN_FILTER, GL_NEAREST)\n",
    "    return texid"
   ]
  },
  {
   "cell_type": "markdown",
   "metadata": {},
   "source": [
    "Função responsável por gerar uma representação gráfica do nosso cubo e com a textura alocada em suas faces"
   ]
  },
  {
   "cell_type": "code",
   "execution_count": 4,
   "metadata": {},
   "outputs": [],
   "source": [
    "# Função que gera o cubo com a textura colocada em sua devida face\n",
    "def Cubo(texture_id, escalaX, escalaY, escalaZ):\n",
    "    # Liga a textura para que ela possa ser usado ao desenhar o cubo\n",
    "    glBindTexture(GL_TEXTURE_2D, texture_id)\n",
    "    # inicia a definição de um conjunto de quadriláteros\n",
    "    glBegin(GL_QUADS)\n",
    "    # loop que desenha as faces do cubo com a textura\n",
    "    # O loop intera sobre os pares de coordenadas da textura e do vertice do cubo. \n",
    "    # Fazendo uma associação de cada vértice com uma coordenada da textura\n",
    "    for tex_coord, vertex in zip(coordenadas_textura, vertices): \n",
    "        glTexCoord2f(*tex_coord)\n",
    "        glVertex3f(vertex[0] * escalaX, vertex[1] * escalaY, vertex[2] * escalaZ)\n",
    "    glEnd()\n"
   ]
  },
  {
   "cell_type": "markdown",
   "metadata": {},
   "source": [
    "Função que cria o pygame que nos permite visualizar o nosso CUBO com a textura"
   ]
  },
  {
   "cell_type": "code",
   "execution_count": 5,
   "metadata": {},
   "outputs": [
    {
     "ename": "GLError",
     "evalue": "GLError(\n\terr = 1282,\n\tdescription = b'opera\\xe7\\xe3o inv\\xe1lida',\n\tbaseOperation = glRotatef,\n\tcArguments = (1, 0, 0.5, 0.5)\n)",
     "output_type": "error",
     "traceback": [
      "\u001b[1;31m---------------------------------------------------------------------------\u001b[0m",
      "\u001b[1;31mGLError\u001b[0m                                   Traceback (most recent call last)",
      "Cell \u001b[1;32mIn[5], line 88\u001b[0m\n\u001b[0;32m     85\u001b[0m         pygame\u001b[38;5;241m.\u001b[39mtime\u001b[38;5;241m.\u001b[39mwait(\u001b[38;5;241m10\u001b[39m)\n\u001b[0;32m     87\u001b[0m \u001b[38;5;66;03m# Chama a função main\u001b[39;00m\n\u001b[1;32m---> 88\u001b[0m \u001b[43mmain\u001b[49m\u001b[43m(\u001b[49m\u001b[43m)\u001b[49m\n",
      "Cell \u001b[1;32mIn[5], line 81\u001b[0m, in \u001b[0;36mmain\u001b[1;34m()\u001b[0m\n\u001b[0;32m     78\u001b[0m             quit()\n\u001b[0;32m     80\u001b[0m \u001b[38;5;66;03m# Atualiza o CUBO\u001b[39;00m\n\u001b[1;32m---> 81\u001b[0m \u001b[43mglRotatef\u001b[49m\u001b[43m(\u001b[49m\u001b[43mspeed\u001b[49m\u001b[43m,\u001b[49m\u001b[43m \u001b[49m\u001b[43mx\u001b[49m\u001b[43m,\u001b[49m\u001b[43m \u001b[49m\u001b[43my\u001b[49m\u001b[43m,\u001b[49m\u001b[43m \u001b[49m\u001b[43mz\u001b[49m\u001b[43m)\u001b[49m\n\u001b[0;32m     82\u001b[0m glClear(GL_COLOR_BUFFER_BIT \u001b[38;5;241m|\u001b[39m GL_DEPTH_BUFFER_BIT)\n\u001b[0;32m     83\u001b[0m Cubo(texture_id, escalaX, escalaY, escalaZ)\n",
      "File \u001b[1;32mc:\\Python312\\Lib\\site-packages\\OpenGL\\error.py:230\u001b[0m, in \u001b[0;36m_ErrorChecker.glCheckError\u001b[1;34m(self, result, baseOperation, cArguments, *args)\u001b[0m\n\u001b[0;32m    228\u001b[0m err \u001b[38;5;241m=\u001b[39m \u001b[38;5;28mself\u001b[39m\u001b[38;5;241m.\u001b[39m_currentChecker()\n\u001b[0;32m    229\u001b[0m \u001b[38;5;28;01mif\u001b[39;00m err \u001b[38;5;241m!=\u001b[39m \u001b[38;5;28mself\u001b[39m\u001b[38;5;241m.\u001b[39m_noErrorResult:\n\u001b[1;32m--> 230\u001b[0m     \u001b[38;5;28;01mraise\u001b[39;00m \u001b[38;5;28mself\u001b[39m\u001b[38;5;241m.\u001b[39m_errorClass(\n\u001b[0;32m    231\u001b[0m         err,\n\u001b[0;32m    232\u001b[0m         result,\n\u001b[0;32m    233\u001b[0m         cArguments \u001b[38;5;241m=\u001b[39m cArguments,\n\u001b[0;32m    234\u001b[0m         baseOperation \u001b[38;5;241m=\u001b[39m baseOperation,\n\u001b[0;32m    235\u001b[0m     )\n\u001b[0;32m    236\u001b[0m \u001b[38;5;28;01mreturn\u001b[39;00m result\n",
      "\u001b[1;31mGLError\u001b[0m: GLError(\n\terr = 1282,\n\tdescription = b'opera\\xe7\\xe3o inv\\xe1lida',\n\tbaseOperation = glRotatef,\n\tcArguments = (1, 0, 0.5, 0.5)\n)"
     ]
    },
    {
     "ename": "",
     "evalue": "",
     "output_type": "error",
     "traceback": [
      "\u001b[1;31mThe Kernel crashed while executing code in the current cell or a previous cell. \n",
      "\u001b[1;31mPlease review the code in the cell(s) to identify a possible cause of the failure. \n",
      "\u001b[1;31mClick <a href='https://aka.ms/vscodeJupyterKernelCrash'>here</a> for more info. \n",
      "\u001b[1;31mView Jupyter <a href='command:jupyter.viewOutput'>log</a> for further details."
     ]
    }
   ],
   "source": [
    "# Função principal que gera a tela\n",
    "def main():\n",
    "    pygame.init()\n",
    "    #Variável reponsável pela escala\n",
    "    escalaX = 1\n",
    "    escalaY = 1\n",
    "    escalaZ = 1\n",
    "    #Variáveis reponsáveis pela rotação\n",
    "    speed = 0\n",
    "    x = 0\n",
    "    y = 0\n",
    "    z = 0\n",
    "    #Variáveis reponsáveis pela translação\n",
    "    moveX = 0\n",
    "    moveY = 0\n",
    "    # Gera tela\n",
    "    display = (800, 600)\n",
    "    pygame.display.set_mode(display, DOUBLEBUF | OPENGL)\n",
    "    gluPerspective(45, (display[0] / display[1]), 0.1, 50.0)\n",
    "    glTranslatef(0.0, 0.0, -5)\n",
    "    glEnable(GL_TEXTURE_2D)\n",
    "    texture_id = Textura()\n",
    "\n",
    "    # Cria um loop que atualiza o estado do jogo\n",
    "    while True:\n",
    "        for event in pygame.event.get():\n",
    "            if event.type == pygame.QUIT:\n",
    "                pygame.quit()\n",
    "                quit()\n",
    "            # Tratamento de INPUTs\n",
    "            elif event.type == pygame.KEYDOWN:\n",
    "                if event.key == pygame.K_q:\n",
    "                    escalaX += 0.1\n",
    "                if event.key == pygame.K_w:\n",
    "                    escalaY += 0.1\n",
    "                elif event.key == pygame.K_e:\n",
    "                    escalaZ += 0.1\n",
    "                if event.key == pygame.K_t:\n",
    "                    escalaX -= 0.1\n",
    "                if event.key == pygame.K_y:\n",
    "                    escalaY -= 0.1\n",
    "                elif event.key == pygame.K_u:\n",
    "                    escalaZ -= 0.1\n",
    "                elif event.key == pygame.K_a:\n",
    "                    x += 0.5\n",
    "                    speed=1\n",
    "                elif event.key == pygame.K_s:\n",
    "                    y += 0.5\n",
    "                    speed=1\n",
    "                elif event.key == pygame.K_d:\n",
    "                    z += 0.5\n",
    "                    speed=1\n",
    "                elif event.key == pygame.K_RIGHT:\n",
    "                    moveX = 0.1\n",
    "                    moveY = 0\n",
    "                    glTranslatef(moveX, moveY, 0)\n",
    "                elif event.key == pygame.K_LEFT:\n",
    "                    moveX = -0.1\n",
    "                    moveY = 0\n",
    "                    glTranslatef(moveX, moveY, 0)\n",
    "                elif event.key == pygame.K_UP:\n",
    "                    moveX = 0\n",
    "                    moveY = 0.1\n",
    "                    glTranslatef(moveX, moveY, 0)\n",
    "                elif event.key == pygame.K_DOWN:\n",
    "                    moveX = 0\n",
    "                    moveY = -0.1\n",
    "                    glTranslatef(moveX, moveY, 0)\n",
    "                elif event.key == pygame.K_RETURN or event.key == pygame.K_KP_ENTER:\n",
    "                    x = 0\n",
    "                    y = 0\n",
    "                    z = 0\n",
    "                    moveX = 0\n",
    "                    moveY = 0\n",
    "                    speed = 0\n",
    "                elif event.key == pygame.K_ESCAPE:\n",
    "                    pygame.quit()\n",
    "                    quit()\n",
    "\n",
    "        # Atualiza o CUBO\n",
    "        glRotatef(speed, x, y, z)\n",
    "        glClear(GL_COLOR_BUFFER_BIT | GL_DEPTH_BUFFER_BIT)\n",
    "        Cubo(texture_id, escalaX, escalaY, escalaZ)\n",
    "        pygame.display.flip()\n",
    "        pygame.time.wait(10)\n",
    "\n",
    "# Chama a função main\n",
    "main()\n"
   ]
  }
 ],
 "metadata": {
  "kernelspec": {
   "display_name": "Python 3",
   "language": "python",
   "name": "python3"
  },
  "language_info": {
   "codemirror_mode": {
    "name": "ipython",
    "version": 3
   },
   "file_extension": ".py",
   "mimetype": "text/x-python",
   "name": "python",
   "nbconvert_exporter": "python",
   "pygments_lexer": "ipython3",
   "version": "3.12.3"
  }
 },
 "nbformat": 4,
 "nbformat_minor": 2
}
