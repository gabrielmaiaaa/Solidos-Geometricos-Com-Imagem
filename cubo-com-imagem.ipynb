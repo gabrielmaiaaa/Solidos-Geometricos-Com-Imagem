{
 "cells": [
  {
   "cell_type": "markdown",
   "metadata": {},
   "source": []
  },
  {
   "cell_type": "code",
   "execution_count": 1,
   "metadata": {},
   "outputs": [
    {
     "name": "stdout",
     "output_type": "stream",
     "text": [
      "pygame 2.5.2 (SDL 2.28.3, Python 3.12.3)\n",
      "Hello from the pygame community. https://www.pygame.org/contribute.html\n"
     ]
    }
   ],
   "source": [
    "import pygame\n",
    "from pygame.locals import *\n",
    "from OpenGL.GL import *\n",
    "from OpenGL.GLU import *"
   ]
  },
  {
   "cell_type": "markdown",
   "metadata": {},
   "source": []
  },
  {
   "cell_type": "code",
   "execution_count": 2,
   "metadata": {},
   "outputs": [],
   "source": [
    "vertices = [\n",
    "    (-1.0, -1.0,  1.0), ( 1.0, -1.0,  1.0), ( 1.0,  1.0,  1.0), (-1.0,  1.0,  1.0),\n",
    "    ( 1.0, -1.0, -1.0), (-1.0, -1.0, -1.0), (-1.0,  1.0, -1.0), ( 1.0,  1.0, -1.0),\n",
    "    (-1.0,  1.0,  1.0), ( 1.0,  1.0,  1.0), ( 1.0,  1.0, -1.0), (-1.0,  1.0, -1.0),\n",
    "    (-1.0, -1.0, -1.0), ( 1.0, -1.0, -1.0), ( 1.0, -1.0,  1.0), (-1.0, -1.0,  1.0),\n",
    "    ( 1.0, -1.0,  1.0), ( 1.0, -1.0, -1.0), ( 1.0,  1.0, -1.0), ( 1.0,  1.0,  1.0),\n",
    "    (-1.0, -1.0, -1.0), (-1.0, -1.0,  1.0), (-1.0,  1.0,  1.0), (-1.0,  1.0, -1.0),\n",
    "]\n",
    "\n",
    "texture_coords = [\n",
    "    (0.0, 0.0), (1.0, 0.0), (1.0, 1.0), (0.0, 1.0),\n",
    "    (0.0, 0.0), (1.0, 0.0), (1.0, 1.0), (0.0, 1.0),\n",
    "    (0.0, 0.0), (1.0, 0.0), (1.0, 1.0), (0.0, 1.0),\n",
    "    (0.0, 0.0), (1.0, 0.0), (1.0, 1.0), (0.0, 1.0),\n",
    "    (0.0, 0.0), (1.0, 0.0), (1.0, 1.0), (0.0, 1.0),\n",
    "    (0.0, 0.0), (1.0, 0.0), (1.0, 1.0), (0.0, 1.0),\n",
    "]"
   ]
  },
  {
   "cell_type": "markdown",
   "metadata": {},
   "source": []
  },
  {
   "cell_type": "code",
   "execution_count": 3,
   "metadata": {},
   "outputs": [],
   "source": [
    "def load_texture():\n",
    "    textureSurface = pygame.image.load('BD-Imagem/cachorro.jpg')\n",
    "    textureData = pygame.image.tostring(textureSurface, \"RGBA\", 1)\n",
    "    width = textureSurface.get_width()\n",
    "    height = textureSurface.get_height()\n",
    "\n",
    "    glEnable(GL_TEXTURE_2D)\n",
    "    texid = glGenTextures(1)\n",
    "\n",
    "    glBindTexture(GL_TEXTURE_2D, texid)\n",
    "    glTexImage2D(GL_TEXTURE_2D, 0, GL_RGB, width, height,\n",
    "                 0, GL_RGBA, GL_UNSIGNED_BYTE, textureData)\n",
    "\n",
    "    glTexParameterf(GL_TEXTURE_2D, GL_TEXTURE_WRAP_S, GL_REPEAT)\n",
    "    glTexParameterf(GL_TEXTURE_2D, GL_TEXTURE_WRAP_T, GL_REPEAT)\n",
    "    glTexParameterf(GL_TEXTURE_2D, GL_TEXTURE_MAG_FILTER, GL_NEAREST)\n",
    "    glTexParameterf(GL_TEXTURE_2D, GL_TEXTURE_MIN_FILTER, GL_NEAREST)\n",
    "\n",
    "    return texid"
   ]
  },
  {
   "cell_type": "markdown",
   "metadata": {},
   "source": []
  },
  {
   "cell_type": "code",
   "execution_count": 4,
   "metadata": {},
   "outputs": [],
   "source": [
    "def Cubo(texture_id):\n",
    "    glBindTexture(GL_TEXTURE_2D, texture_id)\n",
    "    glBegin(GL_QUADS)\n",
    "    for tex_coord, vertex in zip(texture_coords, vertices):\n",
    "        glTexCoord2f(*tex_coord)\n",
    "        glVertex3f(vertex[0] * 1.0, vertex[1] * 1.0, vertex[2] * 1.0)\n",
    "    glEnd()"
   ]
  },
  {
   "cell_type": "markdown",
   "metadata": {},
   "source": []
  },
  {
   "cell_type": "code",
   "execution_count": 5,
   "metadata": {},
   "outputs": [
    {
     "ename": "GLError",
     "evalue": "GLError(\n\terr = 1282,\n\tdescription = b'opera\\xe7\\xe3o inv\\xe1lida',\n\tbaseOperation = glRotatef,\n\tcArguments = (1, 3, 1, 1)\n)",
     "output_type": "error",
     "traceback": [
      "\u001b[1;31m---------------------------------------------------------------------------\u001b[0m",
      "\u001b[1;31mGLError\u001b[0m                                   Traceback (most recent call last)",
      "Cell \u001b[1;32mIn[5], line 22\u001b[0m\n\u001b[0;32m     19\u001b[0m         pygame\u001b[38;5;241m.\u001b[39mdisplay\u001b[38;5;241m.\u001b[39mflip()\n\u001b[0;32m     20\u001b[0m         pygame\u001b[38;5;241m.\u001b[39mtime\u001b[38;5;241m.\u001b[39mwait(\u001b[38;5;241m10\u001b[39m)\n\u001b[1;32m---> 22\u001b[0m \u001b[43mmain\u001b[49m\u001b[43m(\u001b[49m\u001b[43m)\u001b[49m\n",
      "Cell \u001b[1;32mIn[5], line 16\u001b[0m, in \u001b[0;36mmain\u001b[1;34m()\u001b[0m\n\u001b[0;32m     13\u001b[0m         pygame\u001b[38;5;241m.\u001b[39mquit()\n\u001b[0;32m     14\u001b[0m         quit()\n\u001b[1;32m---> 16\u001b[0m \u001b[43mglRotatef\u001b[49m\u001b[43m(\u001b[49m\u001b[38;5;241;43m1\u001b[39;49m\u001b[43m,\u001b[49m\u001b[43m \u001b[49m\u001b[38;5;241;43m3\u001b[39;49m\u001b[43m,\u001b[49m\u001b[43m \u001b[49m\u001b[38;5;241;43m1\u001b[39;49m\u001b[43m,\u001b[49m\u001b[43m \u001b[49m\u001b[38;5;241;43m1\u001b[39;49m\u001b[43m)\u001b[49m\n\u001b[0;32m     17\u001b[0m glClear(GL_COLOR_BUFFER_BIT \u001b[38;5;241m|\u001b[39m GL_DEPTH_BUFFER_BIT)\n\u001b[0;32m     18\u001b[0m Cubo(texture_id)\n",
      "File \u001b[1;32mc:\\Python312\\Lib\\site-packages\\OpenGL\\error.py:230\u001b[0m, in \u001b[0;36m_ErrorChecker.glCheckError\u001b[1;34m(self, result, baseOperation, cArguments, *args)\u001b[0m\n\u001b[0;32m    228\u001b[0m err \u001b[38;5;241m=\u001b[39m \u001b[38;5;28mself\u001b[39m\u001b[38;5;241m.\u001b[39m_currentChecker()\n\u001b[0;32m    229\u001b[0m \u001b[38;5;28;01mif\u001b[39;00m err \u001b[38;5;241m!=\u001b[39m \u001b[38;5;28mself\u001b[39m\u001b[38;5;241m.\u001b[39m_noErrorResult:\n\u001b[1;32m--> 230\u001b[0m     \u001b[38;5;28;01mraise\u001b[39;00m \u001b[38;5;28mself\u001b[39m\u001b[38;5;241m.\u001b[39m_errorClass(\n\u001b[0;32m    231\u001b[0m         err,\n\u001b[0;32m    232\u001b[0m         result,\n\u001b[0;32m    233\u001b[0m         cArguments \u001b[38;5;241m=\u001b[39m cArguments,\n\u001b[0;32m    234\u001b[0m         baseOperation \u001b[38;5;241m=\u001b[39m baseOperation,\n\u001b[0;32m    235\u001b[0m     )\n\u001b[0;32m    236\u001b[0m \u001b[38;5;28;01mreturn\u001b[39;00m result\n",
      "\u001b[1;31mGLError\u001b[0m: GLError(\n\terr = 1282,\n\tdescription = b'opera\\xe7\\xe3o inv\\xe1lida',\n\tbaseOperation = glRotatef,\n\tcArguments = (1, 3, 1, 1)\n)"
     ]
    },
    {
     "ename": "",
     "evalue": "",
     "output_type": "error",
     "traceback": [
      "\u001b[1;31mThe Kernel crashed while executing code in the current cell or a previous cell. \n",
      "\u001b[1;31mPlease review the code in the cell(s) to identify a possible cause of the failure. \n",
      "\u001b[1;31mClick <a href='https://aka.ms/vscodeJupyterKernelCrash'>here</a> for more info. \n",
      "\u001b[1;31mView Jupyter <a href='command:jupyter.viewOutput'>log</a> for further details."
     ]
    }
   ],
   "source": [
    "def main():\n",
    "    pygame.init()\n",
    "    display = (800, 600)\n",
    "    pygame.display.set_mode(display, DOUBLEBUF | OPENGL)\n",
    "    gluPerspective(45, (display[0] / display[1]), 0.1, 50.0)\n",
    "    glTranslatef(0.0, 0.0, -5)\n",
    "    glEnable(GL_TEXTURE_2D)\n",
    "    texture_id = load_texture()\n",
    "\n",
    "    while True:\n",
    "        for event in pygame.event.get():\n",
    "            if event.type == pygame.QUIT:\n",
    "                pygame.quit()\n",
    "                quit()\n",
    "\n",
    "        glRotatef(1, 3, 1, 1)\n",
    "        glClear(GL_COLOR_BUFFER_BIT | GL_DEPTH_BUFFER_BIT)\n",
    "        Cubo(texture_id)\n",
    "        pygame.display.flip()\n",
    "        pygame.time.wait(10)\n",
    "\n",
    "main()"
   ]
  }
 ],
 "metadata": {
  "kernelspec": {
   "display_name": "Python 3",
   "language": "python",
   "name": "python3"
  },
  "language_info": {
   "codemirror_mode": {
    "name": "ipython",
    "version": 3
   },
   "file_extension": ".py",
   "mimetype": "text/x-python",
   "name": "python",
   "nbconvert_exporter": "python",
   "pygments_lexer": "ipython3",
   "version": "3.12.3"
  }
 },
 "nbformat": 4,
 "nbformat_minor": 2
}
